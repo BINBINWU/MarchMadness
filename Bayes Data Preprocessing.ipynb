{
 "cells": [
  {
   "cell_type": "code",
   "execution_count": 6,
   "metadata": {},
   "outputs": [],
   "source": [
    "import pandas as pd\n",
    "import numpy as np\n",
    "import os\n",
    "path = '/Users/binbinwu/Desktop/GW 2019 Spring Class/6450 Bayesian Methods/Finial Project/GLM/Final Project Submission/DataFiles'\n",
    "datalist=[]\n",
    "filenames=[]\n",
    "for filename in os.listdir(path):\n",
    "    i=0\n",
    "    if (filename==\"TeamSpellings.csv\"):\n",
    "        df=pd.read_csv(path+'/'+filename,encoding = 'unicode_escape')\n",
    "        datalist.append(df)\n",
    "        filenames.append(filename)\n",
    "        #i=i+1\n",
    "    else:\n",
    "        df=pd.read_csv(path+'/'+filename)\n",
    "        datalist.append(df)\n",
    "        filenames.append(filename)\n",
    "        #i=i+1"
   ]
  },
  {
   "cell_type": "code",
   "execution_count": 7,
   "metadata": {},
   "outputs": [
    {
     "data": {
      "text/plain": [
       "['Teams.csv',\n",
       " 'TeamConferences.csv',\n",
       " 'Prelim2019_RegularSeasonDetailedResults.csv',\n",
       " 'NCAATourneySeeds.csv',\n",
       " 'SecondaryTourneyTeams.csv',\n",
       " 'NCAATourneySeedRoundSlots.csv',\n",
       " 'RegularSeasonDetailedResults.csv',\n",
       " 'RegularSeasonCompactResults.csv',\n",
       " 'TeamCoaches.csv',\n",
       " 'Cities.csv',\n",
       " 'SecondaryTourneyCompactResults.csv',\n",
       " 'GameCities.csv',\n",
       " 'TeamSpellings.csv',\n",
       " 'Seasons.csv',\n",
       " 'ConferenceTourneyGames.csv',\n",
       " 'Conferences.csv',\n",
       " 'NCAATourneySlots.csv',\n",
       " 'NCAATourneyCompactResults.csv',\n",
       " 'NCAATourneyDetailedResults.csv']"
      ]
     },
     "execution_count": 7,
     "metadata": {},
     "output_type": "execute_result"
    }
   ],
   "source": [
    "filenames"
   ]
  },
  {
   "cell_type": "code",
   "execution_count": 31,
   "metadata": {},
   "outputs": [],
   "source": [
    "Seed=datalist[3].set_index(['Season','TeamID'])"
   ]
  },
  {
   "cell_type": "code",
   "execution_count": 32,
   "metadata": {},
   "outputs": [],
   "source": [
    "WT=datalist[17][['WTeamID','Season']].set_index(['WTeamID','Season']).groupby(level=['Season','WTeamID']).size()\n",
    "WT=pd.DataFrame(WT,columns=['WinR'])"
   ]
  },
  {
   "cell_type": "code",
   "execution_count": 33,
   "metadata": {},
   "outputs": [],
   "source": [
    "LT=datalist[17][['LTeamID','Season']].set_index(['LTeamID','Season']).groupby(level=['Season','LTeamID']).size()\n",
    "LT=pd.DataFrame(LT,columns=['LoseR'])"
   ]
  },
  {
   "cell_type": "code",
   "execution_count": 34,
   "metadata": {},
   "outputs": [],
   "source": [
    "TR=pd.concat([WT, LT], axis=1).fillna(0)\n",
    "FinalR=pd.concat([Seed,TR], axis=1)"
   ]
  },
  {
   "cell_type": "code",
   "execution_count": 35,
   "metadata": {},
   "outputs": [],
   "source": [
    "FinalR['Seed'] = FinalR['Seed'].replace(to_replace=\"[A-Za-z]\",value=\" \",regex=True)\n",
    "FinalR['TotalG'] = FinalR['WinR']+FinalR['LoseR']"
   ]
  },
  {
   "cell_type": "code",
   "execution_count": 20,
   "metadata": {},
   "outputs": [],
   "source": [
    "FinalR.reset_index().rename({'level_0': 'Season', 'level_1': 'TeamID'},axis='columns').to_csv(\"BayesR.csv\",encoding='utf-8')\n"
   ]
  },
  {
   "cell_type": "code",
   "execution_count": 36,
   "metadata": {},
   "outputs": [],
   "source": [
    "FinalR.reset_index().rename({'level_0': 'Season', 'level_1': 'TeamID'},axis='columns').set_index(['TeamID','Seed']).groupby(level=['TeamID','Seed']).sum().to_csv(\"BayesR.csv\",encoding='utf-8')\n"
   ]
  },
  {
   "cell_type": "code",
   "execution_count": null,
   "metadata": {},
   "outputs": [],
   "source": []
  }
 ],
 "metadata": {
  "kernelspec": {
   "display_name": "Python 3",
   "language": "python",
   "name": "python3"
  },
  "language_info": {
   "codemirror_mode": {
    "name": "ipython",
    "version": 3
   },
   "file_extension": ".py",
   "mimetype": "text/x-python",
   "name": "python",
   "nbconvert_exporter": "python",
   "pygments_lexer": "ipython3",
   "version": "3.6.5"
  }
 },
 "nbformat": 4,
 "nbformat_minor": 2
}
